{
 "cells": [
  {
   "cell_type": "code",
   "execution_count": 1,
   "id": "4b0c99b0-64f6-4f83-92a6-030a4bf8c48c",
   "metadata": {},
   "outputs": [
    {
     "name": "stdin",
     "output_type": "stream",
     "text": [
      "Enter radius:  5\n"
     ]
    },
    {
     "name": "stdout",
     "output_type": "stream",
     "text": [
      "Area of circle with radius 5.0 is 78.53982\n"
     ]
    }
   ],
   "source": [
    "import math\n",
    "\n",
    "def area_circle(r):\n",
    "    return math.pi * r * r\n",
    "\n",
    "r = float(input(\"Enter radius: \"))\n",
    "if r < 0:\n",
    "    print(\"Invalid radius!\")\n",
    "else:\n",
    "    print(f\"Area of circle with radius {r} is {area_circle(r):.5f}\")\n"
   ]
  },
  {
   "cell_type": "code",
   "execution_count": 3,
   "id": "e8debf0f-f63b-4b1f-a184-6cb5c4d6fee6",
   "metadata": {},
   "outputs": [
    {
     "name": "stdin",
     "output_type": "stream",
     "text": [
      "Enter a string:  hyderabad\n"
     ]
    },
    {
     "name": "stdout",
     "output_type": "stream",
     "text": [
      "Number of vowels in \"hyderabad\" is 3\n"
     ]
    }
   ],
   "source": [
    "def count_vowels(s):\n",
    "    count = 0\n",
    "    vowels = \"aeiouAEIOU\"\n",
    "    for ch in s:\n",
    "        if ch in vowels:\n",
    "            count += 1\n",
    "    return count\n",
    "\n",
    "def main():\n",
    "    text = input(\"Enter a string: \")\n",
    "    num = count_vowels(text)\n",
    "    print(f\"Number of vowels in \\\"{text}\\\" is {num}\")\n",
    "\n",
    "if __name__ == \"__main__\":\n",
    "    main()  "
   ]
  },
  {
   "cell_type": "code",
   "execution_count": 4,
   "id": "fffdb6fe-03a3-4094-ad0d-0b8c6e39ed5c",
   "metadata": {},
   "outputs": [
    {
     "name": "stdin",
     "output_type": "stream",
     "text": [
      "Enter a string:  chathurya\n"
     ]
    },
    {
     "name": "stdout",
     "output_type": "stream",
     "text": [
      "Number of consonants in \"chathurya\" is 6\n"
     ]
    }
   ],
   "source": [
    "def count_vowels(s):\n",
    "    count = 0\n",
    "    vowels = \"aeiouAEIOU\"\n",
    "    for ch in s:\n",
    "        if ch not in vowels:\n",
    "            count += 1\n",
    "    return count\n",
    "\n",
    "def main():\n",
    "    text = input(\"Enter a string: \")\n",
    "    num = count_vowels(text)\n",
    "    print(f\"Number of consonants in \\\"{text}\\\" is {num}\")\n",
    "\n",
    "if __name__ == \"__main__\":\n",
    "    main()  "
   ]
  },
  {
   "cell_type": "code",
   "execution_count": 5,
   "id": "d7d0b2e8-2e18-409f-9754-1770b6a83322",
   "metadata": {},
   "outputs": [
    {
     "name": "stdout",
     "output_type": "stream",
     "text": [
      "[25, 42, 56, 65, 40, 30]\n"
     ]
    }
   ],
   "source": [
    "def modify_list(n):\n",
    "    result = []\n",
    "    for i in n:\n",
    "        if i % 5 == 0:\n",
    "            result.append(i - 5)\n",
    "        else:\n",
    "            result.append(i)\n",
    "    return result\n",
    "\n",
    "n = [30, 42, 56, 70, 45, 35]\n",
    "l = modify_list(n)\n",
    "print(l)\n"
   ]
  },
  {
   "cell_type": "code",
   "execution_count": 6,
   "id": "72caa801-2f12-4d0a-b9a8-3189b79da9a3",
   "metadata": {},
   "outputs": [
    {
     "name": "stdin",
     "output_type": "stream",
     "text": [
      "Enter numbers separated by commas:  23,55,69,58,47,55,12,30\n"
     ]
    },
    {
     "name": "stdout",
     "output_type": "stream",
     "text": [
      "Odd indices: [55, 58, 55, 30]\n",
      "Even indices: [23, 69, 47, 12]\n"
     ]
    }
   ],
   "source": [
    "def split_by_index(lst):\n",
    "    even_index = []\n",
    "    odd_index = []\n",
    "    for i in range(len(lst)):\n",
    "        if i % 2 == 0:\n",
    "            even_index.append(lst[i])\n",
    "        else:\n",
    "            odd_index.append(lst[i])\n",
    "    return odd_index, even_index\n",
    "\n",
    "l = list(map(int, input(\"Enter numbers separated by commas: \").split(\",\")))\n",
    "\n",
    "m, n = split_by_index(l)\n",
    "print(\"Odd indices:\", m)\n",
    "print(\"Even indices:\", n)\n"
   ]
  },
  {
   "cell_type": "code",
   "execution_count": 9,
   "id": "76ed85f6-655a-48cb-8a37-c92ea959d5bb",
   "metadata": {},
   "outputs": [
    {
     "name": "stdout",
     "output_type": "stream",
     "text": [
      "Even numbers: [20, 30, 60, 40] Sum: 150\n",
      "Odd numbers: [35, 45, 75, 85, 45, 25] Sum: 310\n"
     ]
    }
   ],
   "source": [
    "def separate_and_sum(numbers):\n",
    "    even_list = []\n",
    "    odd_list = []\n",
    "    even_sum = 0\n",
    "    odd_sum = 0\n",
    "    for num in numbers:\n",
    "        if num % 2 == 0:\n",
    "            even_list.append(num)\n",
    "            even_sum += num\n",
    "        else:\n",
    "            odd_list.append(num)\n",
    "            odd_sum += num            \n",
    "    return even_list, even_sum, odd_list, odd_sum\n",
    "numbers = [20, 35, 45, 30, 60, 75, 85, 45, 25, 40]\n",
    "even_list, even_sum, odd_list, odd_sum = separate_and_sum(numbers)\n",
    "print(\"Even numbers:\", even_list, \"Sum:\", even_sum)\n",
    "print(\"Odd numbers:\", odd_list, \"Sum:\", odd_sum)\n"
   ]
  },
  {
   "cell_type": "code",
   "execution_count": 10,
   "id": "c267a93e-153d-476a-a69b-93609d361325",
   "metadata": {},
   "outputs": [
    {
     "name": "stdout",
     "output_type": "stream",
     "text": [
      "['Mumbai']\n",
      "['Hyderabad', 'Hema']\n",
      "['Delhi', 'Dubai', 'Dabar', 'Daddy']\n",
      "['Jaipur', 'Jugu']\n",
      "['Kolkata']\n",
      "['Chennai']\n",
      "['Lucky']\n"
     ]
    }
   ],
   "source": [
    "def group_by_first_letter(words):\n",
    "    groups = {}\n",
    "    for word in words:\n",
    "        first = word[0].lower() \n",
    "        if first not in groups:\n",
    "            groups[first] = []\n",
    "        groups[first].append(word)\n",
    "    return groups\n",
    "\n",
    "\n",
    "\n",
    "n = [\"Mumbai\", \"Hyderabad\", \"Delhi\", \"Dubai\", \"Jaipur\", \"Kolkata\",\n",
    "     \"Chennai\", \"Dabar\", \"Daddy\", \"Lucky\", \"Jugu\", \"Hema\"]\n",
    "\n",
    "result = group_by_first_letter(n)\n",
    "\n",
    "\n",
    "for group in result.values():\n",
    "    print(group)"
   ]
  },
  {
   "cell_type": "code",
   "execution_count": 1,
   "id": "b27e6d3b-8655-448c-9860-32ffcf0197d4",
   "metadata": {},
   "outputs": [
    {
     "name": "stdout",
     "output_type": "stream",
     "text": [
      "['mumbai', 'hyderadad', 'delhi', 'dubai', 'jaipur']\n"
     ]
    }
   ],
   "source": [
    "s = {'mumbai':50, 'hyderadad':40, 'delhi':30, 'dubai':20, 'jaipur':100, 'chennai':280, 'dadar':200}\n",
    "def city_le(s):\n",
    "    l = []\n",
    "    for city in s:\n",
    "        if s[city] < 200:\n",
    "            l.append(city)\n",
    "    return l\n",
    "\n",
    "print(city_le(s)) "
   ]
  },
  {
   "cell_type": "code",
   "execution_count": null,
   "id": "36a470b1-8d7b-4ac0-a0a9-969721006e07",
   "metadata": {},
   "outputs": [],
   "source": []
  }
 ],
 "metadata": {
  "kernelspec": {
   "display_name": "Python 3 (ipykernel)",
   "language": "python",
   "name": "python3"
  },
  "language_info": {
   "codemirror_mode": {
    "name": "ipython",
    "version": 3
   },
   "file_extension": ".py",
   "mimetype": "text/x-python",
   "name": "python",
   "nbconvert_exporter": "python",
   "pygments_lexer": "ipython3",
   "version": "3.13.5"
  }
 },
 "nbformat": 4,
 "nbformat_minor": 5
}
